{
 "cells": [
  {
   "cell_type": "code",
   "execution_count": 1,
   "id": "a9be6f23",
   "metadata": {
    "execution": {
     "iopub.execute_input": "2023-06-25T05:32:49.554457Z",
     "iopub.status.busy": "2023-06-25T05:32:49.554040Z",
     "iopub.status.idle": "2023-06-25T05:32:58.756829Z",
     "shell.execute_reply": "2023-06-25T05:32:58.756081Z"
    },
    "papermill": {
     "duration": 9.207786,
     "end_time": "2023-06-25T05:32:58.758672",
     "exception": false,
     "start_time": "2023-06-25T05:32:49.550886",
     "status": "completed"
    },
    "tags": []
   },
   "outputs": [
    {
     "name": "stderr",
     "output_type": "stream",
     "text": [
      "/opt/conda/lib/python3.10/site-packages/tensorflow_io/python/ops/__init__.py:98: UserWarning: unable to load libtensorflow_io_plugins.so: unable to open file: libtensorflow_io_plugins.so, from paths: ['/opt/conda/lib/python3.10/site-packages/tensorflow_io/python/ops/libtensorflow_io_plugins.so']\n",
      "caused by: ['/opt/conda/lib/python3.10/site-packages/tensorflow_io/python/ops/libtensorflow_io_plugins.so: undefined symbol: _ZN3tsl6StatusC1EN10tensorflow5error4CodeESt17basic_string_viewIcSt11char_traitsIcEENS_14SourceLocationE']\n",
      "  warnings.warn(f\"unable to load libtensorflow_io_plugins.so: {e}\")\n",
      "/opt/conda/lib/python3.10/site-packages/tensorflow_io/python/ops/__init__.py:104: UserWarning: file system plugins are not loaded: unable to open file: libtensorflow_io.so, from paths: ['/opt/conda/lib/python3.10/site-packages/tensorflow_io/python/ops/libtensorflow_io.so']\n",
      "caused by: ['/opt/conda/lib/python3.10/site-packages/tensorflow_io/python/ops/libtensorflow_io.so: undefined symbol: _ZTVN10tensorflow13GcsFileSystemE']\n",
      "  warnings.warn(f\"file system plugins are not loaded: {e}\")\n"
     ]
    },
    {
     "name": "stdout",
     "output_type": "stream",
     "text": [
      "Downloading data from https://storage.googleapis.com/tensorflow/tf-keras-datasets/train-labels-idx1-ubyte.gz\n",
      "29515/29515 [==============================] - 0s 0us/step\n",
      "Downloading data from https://storage.googleapis.com/tensorflow/tf-keras-datasets/train-images-idx3-ubyte.gz\n",
      "26421880/26421880 [==============================] - 1s 0us/step\n",
      "Downloading data from https://storage.googleapis.com/tensorflow/tf-keras-datasets/t10k-labels-idx1-ubyte.gz\n",
      "5148/5148 [==============================] - 0s 0us/step\n",
      "Downloading data from https://storage.googleapis.com/tensorflow/tf-keras-datasets/t10k-images-idx3-ubyte.gz\n",
      "4422102/4422102 [==============================] - 1s 0us/step\n"
     ]
    }
   ],
   "source": [
    "import tensorflow as tf\n",
    "import numpy as np\n",
    "import matplotlib as mpl\n",
    "import matplotlib.pyplot as plt\n",
    "from tensorflow import keras\n",
    "fashion_mnist = keras.datasets.fashion_mnist\n",
    "(X_train_full, y_train_full), (X_test, y_test) = fashion_mnist.load_data()\n",
    "# Scale the pixel intensities down to the 0-1 range by dividing them by 255.0\n",
    "X_valid, X_train = X_train_full[:5000] / 255., X_train_full[5000:] / 255. \n",
    "y_valid, y_train = y_train_full[:5000], y_train_full[5000:]\n",
    "X_test = X_test / 255."
   ]
  },
  {
   "cell_type": "code",
   "execution_count": 2,
   "id": "af5ebb1e",
   "metadata": {
    "execution": {
     "iopub.execute_input": "2023-06-25T05:32:58.767476Z",
     "iopub.status.busy": "2023-06-25T05:32:58.767002Z",
     "iopub.status.idle": "2023-06-25T05:33:33.176152Z",
     "shell.execute_reply": "2023-06-25T05:33:33.175327Z"
    },
    "papermill": {
     "duration": 34.415263,
     "end_time": "2023-06-25T05:33:33.177933",
     "exception": false,
     "start_time": "2023-06-25T05:32:58.762670",
     "status": "completed"
    },
    "tags": []
   },
   "outputs": [
    {
     "name": "stdout",
     "output_type": "stream",
     "text": [
      "Model: \"sequential\"\n",
      "_________________________________________________________________\n",
      " Layer (type)                Output Shape              Param #   \n",
      "=================================================================\n",
      " flatten (Flatten)           (None, 784)               0         \n",
      "                                                                 \n",
      " dense (Dense)               (None, 300)               235500    \n",
      "                                                                 \n",
      " dense_1 (Dense)             (None, 100)               30100     \n",
      "                                                                 \n",
      " dense_2 (Dense)             (None, 10)                1010      \n",
      "                                                                 \n",
      "=================================================================\n",
      "Total params: 266,610\n",
      "Trainable params: 266,610\n",
      "Non-trainable params: 0\n",
      "_________________________________________________________________\n",
      "None\n",
      "Epoch 1/10\n",
      "1719/1719 [==============================] - 4s 2ms/step - loss: 0.7114 - accuracy: 0.7679 - val_loss: 0.4961 - val_accuracy: 0.8306\n",
      "Epoch 2/10\n",
      "1719/1719 [==============================] - 3s 2ms/step - loss: 0.4866 - accuracy: 0.8307 - val_loss: 0.4821 - val_accuracy: 0.8238\n",
      "Epoch 3/10\n",
      "1719/1719 [==============================] - 3s 2ms/step - loss: 0.4415 - accuracy: 0.8452 - val_loss: 0.4174 - val_accuracy: 0.8530\n",
      "Epoch 4/10\n",
      "1719/1719 [==============================] - 3s 2ms/step - loss: 0.4150 - accuracy: 0.8547 - val_loss: 0.3931 - val_accuracy: 0.8644\n",
      "Epoch 5/10\n",
      "1719/1719 [==============================] - 3s 2ms/step - loss: 0.3937 - accuracy: 0.8615 - val_loss: 0.3887 - val_accuracy: 0.8654\n",
      "Epoch 6/10\n",
      "1719/1719 [==============================] - 3s 2ms/step - loss: 0.3794 - accuracy: 0.8671 - val_loss: 0.3862 - val_accuracy: 0.8630\n",
      "Epoch 7/10\n",
      "1719/1719 [==============================] - 3s 2ms/step - loss: 0.3662 - accuracy: 0.8701 - val_loss: 0.3836 - val_accuracy: 0.8646\n",
      "Epoch 8/10\n",
      "1719/1719 [==============================] - 3s 2ms/step - loss: 0.3550 - accuracy: 0.8743 - val_loss: 0.3564 - val_accuracy: 0.8740\n",
      "Epoch 9/10\n",
      "1719/1719 [==============================] - 3s 2ms/step - loss: 0.3439 - accuracy: 0.8783 - val_loss: 0.3575 - val_accuracy: 0.8736\n",
      "Epoch 10/10\n",
      "1719/1719 [==============================] - 3s 2ms/step - loss: 0.3357 - accuracy: 0.8802 - val_loss: 0.3502 - val_accuracy: 0.8760\n",
      "313/313 [==============================] - 0s 1ms/step - loss: 0.3818 - accuracy: 0.8648\n"
     ]
    },
    {
     "data": {
      "text/plain": [
       "[0.38183438777923584, 0.864799976348877]"
      ]
     },
     "execution_count": 2,
     "metadata": {},
     "output_type": "execute_result"
    }
   ],
   "source": [
    "model = keras.models.Sequential([\n",
    "    keras.layers.Flatten(input_shape=[28, 28]),\n",
    "    keras.layers.Dense(300, activation=\"relu\"),\n",
    "    keras.layers.Dense(100, activation=\"relu\"),\n",
    "    keras.layers.Dense(10, activation=\"softmax\")\n",
    "])\n",
    "model.compile(loss=\"sparse_categorical_crossentropy\", optimizer=\"sgd\", metrics=[\"accuracy\"])\n",
    "print(model.summary())\n",
    "history = model.fit(X_train, y_train, epochs=10, validation_data=(X_valid, y_valid))\n",
    "model.evaluate(X_test, y_test) "
   ]
  },
  {
   "cell_type": "markdown",
   "id": "a1b4c0b6",
   "metadata": {
    "papermill": {
     "duration": 0.03728,
     "end_time": "2023-06-25T05:33:33.253882",
     "exception": false,
     "start_time": "2023-06-25T05:33:33.216602",
     "status": "completed"
    },
    "tags": []
   },
   "source": [
    "## Visualize of Flatten Layer"
   ]
  },
  {
   "cell_type": "code",
   "execution_count": 3,
   "id": "74c561d4",
   "metadata": {
    "execution": {
     "iopub.execute_input": "2023-06-25T05:33:33.330808Z",
     "iopub.status.busy": "2023-06-25T05:33:33.330464Z",
     "iopub.status.idle": "2023-06-25T05:33:33.727206Z",
     "shell.execute_reply": "2023-06-25T05:33:33.726061Z"
    },
    "papermill": {
     "duration": 0.437809,
     "end_time": "2023-06-25T05:33:33.729065",
     "exception": false,
     "start_time": "2023-06-25T05:33:33.291256",
     "status": "completed"
    },
    "tags": []
   },
   "outputs": [
    {
     "name": "stdout",
     "output_type": "stream",
     "text": [
      "1/1 [==============================] - 0s 54ms/step\n",
      "Original Image\n"
     ]
    },
    {
     "data": {
      "image/png": "[encoded data removed]",
      "text/plain": [
       "<Figure size 640x480 with 1 Axes>"
      ]
     },
     "metadata": {},
     "output_type": "display_data"
    },
    {
     "name": "stdout",
     "output_type": "stream",
     "text": [
      "After flatten\n"
     ]
    },
    {
     "data": {
      "image/png": "[encoded data removed]",
      "text/plain": [
       "<Figure size 10000x5000 with 1 Axes>"
      ]
     },
     "metadata": {},
     "output_type": "display_data"
    }
   ],
   "source": [
    "image = X_test[0]  # Let's visualize the first image in the test set\n",
    "input_data = image.reshape(1, 28, 28) / 255.0  # Reshape and normalize the image\n",
    "flatten_layer = model.get_layer('flatten')\n",
    "visualization_model = keras.models.Model(model.input, flatten_layer.output)\n",
    "output_data = visualization_model.predict(input_data) # Get the output of the Flatten layer for the input image\n",
    "print(\"Original Image\")\n",
    "plt.imshow(image, cmap=\"gray\")\n",
    "plt.show()\n",
    "print(\"After flatten\")\n",
    "plt.figure(figsize=(100, 50)) \n",
    "plt.imshow(output_data, cmap='gray')\n",
    "plt.axis('off')\n",
    "plt.show()"
   ]
  }
 ],
 "metadata": {
  "kernelspec": {
   "display_name": "Python 3",
   "language": "python",
   "name": "python3"
  },
  "language_info": {
   "codemirror_mode": {
    "name": "ipython",
    "version": 3
   },
   "file_extension": ".py",
   "mimetype": "text/x-python",
   "name": "python",
   "nbconvert_exporter": "python",
   "pygments_lexer": "ipython3",
   "version": "3.10.10"
  },
  "papermill": {
   "default_parameters": {},
   "duration": 54.108471,
   "end_time": "2023-06-25T05:33:36.541410",
   "environment_variables": {},
   "exception": null,
   "input_path": "__notebook__.ipynb",
   "output_path": "__notebook__.ipynb",
   "parameters": {},
   "start_time": "2023-06-25T05:32:42.432939",
   "version": "2.4.0"
  }
 },
 "nbformat": 4,
 "nbformat_minor": 5
}

{
 "cells": [
  {
   "cell_type": "code",
   "execution_count": 1,
   "id": "7f3330fb",
   "metadata": {
    "_cell_guid": "b1076dfc-b9ad-4769-8c92-a6c4dae69d19",
    "_uuid": "8f2839f25d086af736a60e9eeb907d3b93b6e0e5",
    "execution": {
     "iopub.execute_input": "2023-06-25T05:40:42.282511Z",
     "iopub.status.busy": "2023-06-25T05:40:42.281599Z",
     "iopub.status.idle": "2023-06-25T05:40:59.241802Z",
     "shell.execute_reply": "2023-06-25T05:40:59.240167Z"
    },
    "papermill": {
     "duration": 16.967591,
     "end_time": "2023-06-25T05:40:59.244730",
     "exception": false,
     "start_time": "2023-06-25T05:40:42.277139",
     "status": "completed"
    },
    "tags": []
   },
   "outputs": [
    {
     "name": "stderr",
     "output_type": "stream",
     "text": [
      "/opt/conda/lib/python3.10/site-packages/tensorflow_io/python/ops/__init__.py:98: UserWarning: unable to load libtensorflow_io_plugins.so: unable to open file: libtensorflow_io_plugins.so, from paths: ['/opt/conda/lib/python3.10/site-packages/tensorflow_io/python/ops/libtensorflow_io_plugins.so']\n",
      "caused by: ['/opt/conda/lib/python3.10/site-packages/tensorflow_io/python/ops/libtensorflow_io_plugins.so: undefined symbol: _ZN3tsl6StatusC1EN10tensorflow5error4CodeESt17basic_string_viewIcSt11char_traitsIcEENS_14SourceLocationE']\n",
      "  warnings.warn(f\"unable to load libtensorflow_io_plugins.so: {e}\")\n",
      "/opt/conda/lib/python3.10/site-packages/tensorflow_io/python/ops/__init__.py:104: UserWarning: file system plugins are not loaded: unable to open file: libtensorflow_io.so, from paths: ['/opt/conda/lib/python3.10/site-packages/tensorflow_io/python/ops/libtensorflow_io.so']\n",
      "caused by: ['/opt/conda/lib/python3.10/site-packages/tensorflow_io/python/ops/libtensorflow_io.so: undefined symbol: _ZTVN10tensorflow13GcsFileSystemE']\n",
      "  warnings.warn(f\"file system plugins are not loaded: {e}\")\n"
     ]
    },
    {
     "name": "stdout",
     "output_type": "stream",
     "text": [
      "Downloading data from https://www.cs.toronto.edu/~kriz/cifar-10-python.tar.gz\n",
      "170498071/170498071 [==============================] - 3s 0us/step\n",
      "Model: \"sequential\"\n",
      "_________________________________________________________________\n",
      " Layer (type)                Output Shape              Param #   \n",
      "=================================================================\n",
      " conv2d (Conv2D)             (None, 28, 28, 6)         456       \n",
      "                                                                 \n",
      " max_pooling2d (MaxPooling2D  (None, 14, 14, 6)        0         \n",
      " )                                                               \n",
      "                                                                 \n",
      " conv2d_1 (Conv2D)           (None, 10, 10, 16)        2416      \n",
      "                                                                 \n",
      " max_pooling2d_1 (MaxPooling  (None, 5, 5, 16)         0         \n",
      " 2D)                                                             \n",
      "                                                                 \n",
      " flatten (Flatten)           (None, 400)               0         \n",
      "                                                                 \n",
      " dense (Dense)               (None, 120)               48120     \n",
      "                                                                 \n",
      " dense_1 (Dense)             (None, 84)                10164     \n",
      "                                                                 \n",
      " dense_2 (Dense)             (None, 10)                850       \n",
      "                                                                 \n",
      "=================================================================\n",
      "Total params: 62,006\n",
      "Trainable params: 62,006\n",
      "Non-trainable params: 0\n",
      "_________________________________________________________________\n"
     ]
    }
   ],
   "source": [
    "import tensorflow as tf\n",
    "from tensorflow.keras import layers, models\n",
    "from tensorflow.keras.datasets import cifar10\n",
    "(train_images, train_labels), (test_images, test_labels) = cifar10.load_data()\n",
    "train_images = train_images.astype('float32') / 255\n",
    "test_images = test_images.astype('float32') / 255\n",
    "model = models.Sequential() # Implement Lenet-5 CNN\n",
    "model.add(layers.Conv2D(6, (5, 5), activation='tanh', strides=(1, 1), input_shape=(32, 32, 3)))\n",
    "model.add(layers.MaxPooling2D((2, 2), strides=(2, 2)))\n",
    "model.add(layers.Conv2D(16, (5, 5), activation='tanh', strides=(1, 1)))\n",
    "model.add(layers.MaxPooling2D((2, 2), strides=(2, 2)))\n",
    "model.add(layers.Flatten())\n",
    "model.add(layers.Dense(120, activation='tanh'))\n",
    "model.add(layers.Dense(84, activation='tanh'))\n",
    "model.add(layers.Dense(10, activation='softmax'))\n",
    "model.compile(optimizer='adam',\n",
    "              loss=tf.keras.losses.SparseCategoricalCrossentropy(),\n",
    "              metrics=['accuracy'])\n",
    "model.summary()"
   ]
  },
  {
   "cell_type": "code",
   "execution_count": 2,
   "id": "bdb09e38",
   "metadata": {
    "execution": {
     "iopub.execute_input": "2023-06-25T05:40:59.269228Z",
     "iopub.status.busy": "2023-06-25T05:40:59.268777Z",
     "iopub.status.idle": "2023-06-25T05:44:26.254568Z",
     "shell.execute_reply": "2023-06-25T05:44:26.253069Z"
    },
    "papermill": {
     "duration": 207.000526,
     "end_time": "2023-06-25T05:44:26.256709",
     "exception": false,
     "start_time": "2023-06-25T05:40:59.256183",
     "status": "completed"
    },
    "tags": []
   },
   "outputs": [
    {
     "name": "stdout",
     "output_type": "stream",
     "text": [
      "Epoch 1/10\n",
      "782/782 [==============================] - 22s 26ms/step - loss: 1.6051 - accuracy: 0.4241\n",
      "Epoch 2/10\n",
      "782/782 [==============================] - 20s 26ms/step - loss: 1.3474 - accuracy: 0.5171\n",
      "Epoch 3/10\n",
      "782/782 [==============================] - 20s 26ms/step - loss: 1.2446 - accuracy: 0.5582\n",
      "Epoch 4/10\n",
      "782/782 [==============================] - 20s 26ms/step - loss: 1.1673 - accuracy: 0.5863\n",
      "Epoch 5/10\n",
      "782/782 [==============================] - 20s 25ms/step - loss: 1.1073 - accuracy: 0.6096\n",
      "Epoch 6/10\n",
      "782/782 [==============================] - 20s 26ms/step - loss: 1.0551 - accuracy: 0.6264\n",
      "Epoch 7/10\n",
      "782/782 [==============================] - 20s 26ms/step - loss: 1.0108 - accuracy: 0.6445\n",
      "Epoch 8/10\n",
      "782/782 [==============================] - 20s 26ms/step - loss: 0.9673 - accuracy: 0.6591\n",
      "Epoch 9/10\n",
      "782/782 [==============================] - 20s 26ms/step - loss: 0.9337 - accuracy: 0.6723\n",
      "Epoch 10/10\n",
      "782/782 [==============================] - 20s 26ms/step - loss: 0.8946 - accuracy: 0.6858\n",
      "313/313 [==============================] - 2s 6ms/step - loss: 1.1286 - accuracy: 0.6142\n",
      "Test accuracy: 0.6141999959945679\n"
     ]
    }
   ],
   "source": [
    "model.fit(train_images, train_labels, epochs=10, batch_size=64)\n",
    "test_loss, test_acc = model.evaluate(test_images, test_labels)\n",
    "print('Test accuracy:', test_acc)"
   ]
  },
  {
   "cell_type": "markdown",
   "id": "71cdc922",
   "metadata": {
    "papermill": {
     "duration": 0.306477,
     "end_time": "2023-06-25T05:44:26.870455",
     "exception": false,
     "start_time": "2023-06-25T05:44:26.563978",
     "status": "completed"
    },
    "tags": []
   },
   "source": [
    "There could be several reasons why the accuracy is low for the LeNet-5 model on the CIFAR-10 dataset:\n",
    "\n",
    "<b> Complexity of the dataset </b>: CIFAR-10 is a challenging dataset with 10 different classes and relatively small images (32x32 pixels). The LeNet-5 architecture might not be powerful enough to capture the complexity of this dataset. Consider using deeper and more complex models such as modern CNN architectures (e.g., ResNet, VGG, or Inception) to improve accuracy.\n",
    "\n",
    "<b> Model capacity </b>: LeNet-5 is a relatively simple architecture designed for the MNIST dataset, which has grayscale images. CIFAR-10, on the other hand, has color images with more diverse features. Try increasing the capacity of the model by adding more convolutional layers, increasing the number of filters, or using larger filter sizes to allow the model to learn more complex representations.\n",
    "\n",
    "<b> Data augmentation </b>: CIFAR-10 is a relatively small dataset, and data augmentation techniques can help increase its effective size. Apply image transformations such as rotations, translations, flips, and scaling to artificially increase the diversity of the training data. This can help the model generalize better and improve accuracy.\n",
    "\n",
    "<b> Hyperparameter tuning </b>: Experiment with different hyperparameters such as learning rate, batch size, and number of epochs. Use techniques like learning rate schedules or adaptive optimizers (e.g., Adam, RMSprop) to enhance the training process. Adjusting these hyperparameters can have a significant impact on the model's performance.\n",
    "\n",
    "<b> Regularization techniques </b>: Regularization techniques such as dropout and weight decay can help prevent overfitting and improve generalization. Consider adding dropout layers or applying L2 regularization to the model to reduce overfitting and improve accuracy.\n",
    "\n",
    "<b> Pretrained models </b>: Instead of training from scratch, you can leverage pre-trained models on larger datasets (e.g., ImageNet) and fine-tune them on CIFAR-10. This transfer learning approach allows the model to benefit from the knowledge learned on larger and more diverse datasets, which can lead to better accuracy."
   ]
  }
 ],
 "metadata": {
  "kernelspec": {
   "display_name": "Python 3",
   "language": "python",
   "name": "python3"
  },
  "language_info": {
   "codemirror_mode": {
    "name": "ipython",
    "version": 3
   },
   "file_extension": ".py",
   "mimetype": "text/x-python",
   "name": "python",
   "nbconvert_exporter": "python",
   "pygments_lexer": "ipython3",
   "version": "3.10.10"
  },
  "papermill": {
   "default_parameters": {},
   "duration": 241.84013,
   "end_time": "2023-06-25T05:44:30.327141",
   "environment_variables": {},
   "exception": null,
   "input_path": "__notebook__.ipynb",
   "output_path": "__notebook__.ipynb",
   "parameters": {},
   "start_time": "2023-06-25T05:40:28.487011",
   "version": "2.4.0"
  }
 },
 "nbformat": 4,
 "nbformat_minor": 5
}

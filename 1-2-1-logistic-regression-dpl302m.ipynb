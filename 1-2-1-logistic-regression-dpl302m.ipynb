{
 "cells": [
  {
   "cell_type": "markdown",
   "id": "14a9b06a",
   "metadata": {
    "papermill": {
     "duration": 0.004014,
     "end_time": "2023-05-10T03:06:09.356182",
     "exception": false,
     "start_time": "2023-05-10T03:06:09.352168",
     "status": "completed"
    },
    "tags": []
   },
   "source": [
    "## Import libraries and prepare data\n",
    "sklearn provides us with a Logistic Regression model out of the box"
   ]
  },
  {
   "cell_type": "code",
   "execution_count": 1,
   "id": "1bf459b8",
   "metadata": {
    "_cell_guid": "b1076dfc-b9ad-4769-8c92-a6c4dae69d19",
    "_uuid": "8f2839f25d086af736a60e9eeb907d3b93b6e0e5",
    "execution": {
     "iopub.execute_input": "2023-05-10T03:06:09.364732Z",
     "iopub.status.busy": "2023-05-10T03:06:09.364223Z",
     "iopub.status.idle": "2023-05-10T03:06:11.016612Z",
     "shell.execute_reply": "2023-05-10T03:06:11.015356Z"
    },
    "papermill": {
     "duration": 1.660091,
     "end_time": "2023-05-10T03:06:11.019707",
     "exception": false,
     "start_time": "2023-05-10T03:06:09.359616",
     "status": "completed"
    },
    "tags": []
   },
   "outputs": [],
   "source": [
    "import pandas as pd\n",
    "import seaborn as sns\n",
    "import matplotlib.pyplot as plt\n",
    "import numpy as np\n",
    "from sklearn.metrics import accuracy_score\n",
    "from sklearn.linear_model import LogisticRegression\n",
    "data = {'Hours': [0.5, 0.75, 1, 1.25, 1.5, 1.75, 1.75, 2, 2.25, 2.5, 2.75, 3, 3.25, 3.5, 4, 4.25, 4.5, 4.75, 5, 5.5],\n",
    "        'Pass': [0, 0, 0, 0 ,0, 0, 1, 0, 1, 0, 1,0, 1,0, 1,1,1,1,1,1]}\n",
    "df = pd.DataFrame(data)"
   ]
  },
  {
   "cell_type": "markdown",
   "id": "1b1a20aa",
   "metadata": {
    "papermill": {
     "duration": 0.003053,
     "end_time": "2023-05-10T03:06:11.026287",
     "exception": false,
     "start_time": "2023-05-10T03:06:11.023234",
     "status": "completed"
    },
    "tags": []
   },
   "source": [
    "## Make prediction\n",
    "Run `model.fit` to make prediction based on df[['Hours']] data. Logistic Regression will try to predict the df[['Pass']] without us providing any hint."
   ]
  },
  {
   "cell_type": "code",
   "execution_count": 2,
   "id": "324469c5",
   "metadata": {
    "execution": {
     "iopub.execute_input": "2023-05-10T03:06:11.034782Z",
     "iopub.status.busy": "2023-05-10T03:06:11.034380Z",
     "iopub.status.idle": "2023-05-10T03:06:11.069549Z",
     "shell.execute_reply": "2023-05-10T03:06:11.068286Z"
    },
    "papermill": {
     "duration": 0.042276,
     "end_time": "2023-05-10T03:06:11.072015",
     "exception": false,
     "start_time": "2023-05-10T03:06:11.029739",
     "status": "completed"
    },
    "tags": []
   },
   "outputs": [
    {
     "name": "stdout",
     "output_type": "stream",
     "text": [
      "Pass prediction based on Hours:  [0 0 0 0 0 0 0 0 0 0 1 1 1 1 1 1 1 1 1 1]\n"
     ]
    }
   ],
   "source": [
    "model = LogisticRegression()\n",
    "model.fit(df[['Hours']], df['Pass'])\n",
    "binary_predictions = model.predict(df[['Hours']])\n",
    "print(\"Pass prediction based on Hours: \", binary_predictions)"
   ]
  },
  {
   "cell_type": "markdown",
   "id": "732f17e1",
   "metadata": {
    "papermill": {
     "duration": 0.003318,
     "end_time": "2023-05-10T03:06:11.079067",
     "exception": false,
     "start_time": "2023-05-10T03:06:11.075749",
     "status": "completed"
    },
    "tags": []
   },
   "source": [
    "## Metrics\n",
    "The prediction accuracy is 80%, with 5 missed prediction data points. \n",
    "We use `np.where` to find the indices where the Pass Prediction and the Pass Actual Data is different. The incorrect predictions are at: 6,8,11,13"
   ]
  },
  {
   "cell_type": "code",
   "execution_count": 6,
   "id": "a252d75b",
   "metadata": {},
   "outputs": [],
   "source": [
    "#note"
   ]
  },
  {
   "cell_type": "code",
   "execution_count": 3,
   "id": "9327214a",
   "metadata": {
    "execution": {
     "iopub.execute_input": "2023-05-10T03:06:11.087701Z",
     "iopub.status.busy": "2023-05-10T03:06:11.087315Z",
     "iopub.status.idle": "2023-05-10T03:06:11.103593Z",
     "shell.execute_reply": "2023-05-10T03:06:11.102189Z"
    },
    "papermill": {
     "duration": 0.023599,
     "end_time": "2023-05-10T03:06:11.106074",
     "exception": false,
     "start_time": "2023-05-10T03:06:11.082475",
     "status": "completed"
    },
    "tags": []
   },
   "outputs": [
    {
     "name": "stdout",
     "output_type": "stream",
     "text": [
      "Incorrect predictions:\n",
      "    Hours  Pass\n",
      "6    1.75     1\n",
      "8    2.25     1\n",
      "11   3.00     0\n",
      "13   3.50     0\n",
      "Accuracy  0.8\n"
     ]
    }
   ],
   "source": [
    "accuracy = accuracy_score(df['Pass'], binary_predictions)\n",
    "incorrect_indices = np.where(df['Pass'] != binary_predictions)\n",
    "print(\"Incorrect predictions:\")\n",
    "print(df.iloc[incorrect_indices])\n",
    "print(\"Accuracy \", accuracy)"
   ]
  },
  {
   "cell_type": "markdown",
   "id": "e0fa09b1",
   "metadata": {
    "papermill": {
     "duration": 0.003318,
     "end_time": "2023-05-10T03:06:11.113007",
     "exception": false,
     "start_time": "2023-05-10T03:06:11.109689",
     "status": "completed"
    },
    "tags": []
   },
   "source": [
    "## Plot it\n",
    "To plot the logistic regression line and the data scatter points, we can use the sns seaborn library. \n",
    "In order to plot the incorrect prediction 6,8,11,13, we need to first combine the predictions and the original dataframe, then use the `Prediction` column as the hue."
   ]
  },
  {
   "cell_type": "code",
   "execution_count": 13,
   "id": "dd1c4222",
   "metadata": {},
   "outputs": [
    {
     "data": {
      "text/plain": [
       "<AxesSubplot:xlabel='Hours', ylabel='Pass'>"
      ]
     },
     "execution_count": 13,
     "metadata": {},
     "output_type": "execute_result"
    }
   ],
   "source": [
    "#note\n",
    "prediction_df = pd.DataFrame({'Prediction': binary_predictions})\n",
    "result = pd.concat([df, prediction_df], axis=1)\n",
    "\n",
    "palette = {0: 'red', 1: 'blue'}\n",
    "graph = sns.lmplot(x='Hours', y='Pass', hue='Prediction', data=result, fit_reg=False, palette=palette)\n",
    "sns.regplot(x='Hours', y='Pass', data=result, scatter=False, ax=graph.axes[0, 0], logistic=True)"
   ]
  },
  {
   "cell_type": "code",
   "execution_count": 14,
   "id": "6891b8e9",
   "metadata": {
    "execution": {
     "iopub.execute_input": "2023-05-10T03:06:11.122281Z",
     "iopub.status.busy": "2023-05-10T03:06:11.121438Z",
     "iopub.status.idle": "2023-05-10T03:06:15.956239Z",
     "shell.execute_reply": "2023-05-10T03:06:15.955108Z"
    },
    "papermill": {
     "duration": 4.842367,
     "end_time": "2023-05-10T03:06:15.958977",
     "exception": false,
     "start_time": "2023-05-10T03:06:11.116610",
     "status": "completed"
    },
    "tags": []
   },
   "outputs": [
    {
     "name": "stdout",
     "output_type": "stream",
     "text": [
      "Combination of orignal and prediction dataframe \n",
      "     Hours  Pass  Prediction\n",
      "0    0.50     0           0\n",
      "1    0.75     0           0\n",
      "2    1.00     0           0\n",
      "3    1.25     0           0\n",
      "4    1.50     0           0\n",
      "5    1.75     0           0\n",
      "6    1.75     1           0\n",
      "7    2.00     0           0\n",
      "8    2.25     1           0\n",
      "9    2.50     0           0\n",
      "10   2.75     1           1\n",
      "11   3.00     0           1\n",
      "12   3.25     1           1\n",
      "13   3.50     0           1\n",
      "14   4.00     1           1\n",
      "15   4.25     1           1\n",
      "16   4.50     1           1\n",
      "17   4.75     1           1\n",
      "18   5.00     1           1\n",
      "19   5.50     1           1\n"
     ]
    },
    {
     "data": {
      "text/plain": [
       "<AxesSubplot:xlabel='Hours', ylabel='Pass'>"
      ]
     },
     "execution_count": 14,
     "metadata": {},
     "output_type": "execute_result"
    }
   ],
   "source": [
    "prediction_df = pd.DataFrame({'Prediction': binary_predictions})\n",
    "result = pd.concat([df, prediction_df], axis=1)\n",
    "print(\"Combination of orignal and prediction dataframe \\n\", result)\n",
    "palette = {0: 'red', 1: 'blue'}\n",
    "graph = sns.lmplot(x='Hours', y='Pass', hue='Prediction', data=result, fit_reg=False, palette=palette)\n",
    "sns.regplot(x='Hours', y='Pass', data=result, scatter=False, ax=graph.axes[0, 0], logistic=True)"
   ]
  },
  {
   "cell_type": "code",
   "execution_count": null,
   "id": "b4a32498",
   "metadata": {},
   "outputs": [],
   "source": []
  }
 ],
 "metadata": {
  "kernelspec": {
   "display_name": "Python 3 (ipykernel)",
   "language": "python",
   "name": "python3"
  },
  "language_info": {
   "codemirror_mode": {
    "name": "ipython",
    "version": 3
   },
   "file_extension": ".py",
   "mimetype": "text/x-python",
   "name": "python",
   "nbconvert_exporter": "python",
   "pygments_lexer": "ipython3",
   "version": "3.9.13"
  },
  "papermill": {
   "default_parameters": {},
   "duration": 20.409718,
   "end_time": "2023-05-10T03:06:16.986501",
   "environment_variables": {},
   "exception": null,
   "input_path": "__notebook__.ipynb",
   "output_path": "__notebook__.ipynb",
   "parameters": {},
   "start_time": "2023-05-10T03:05:56.576783",
   "version": "2.4.0"
  }
 },
 "nbformat": 4,
 "nbformat_minor": 5
}
